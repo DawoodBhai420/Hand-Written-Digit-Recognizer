{
 "cells": [
  {
   "cell_type": "code",
   "execution_count": 2,
   "id": "b6c60c28",
   "metadata": {},
   "outputs": [
    {
     "data": {
      "application/vnd.jupyter.widget-view+json": {
       "model_id": "9ee3e84731b7418196eaa2b80cd46689",
       "version_major": 2,
       "version_minor": 0
      },
      "text/plain": [
       "  0%|          | 0/600 [00:00<?, ?it/s]"
      ]
     },
     "metadata": {},
     "output_type": "display_data"
    },
    {
     "data": {
      "application/vnd.jupyter.widget-view+json": {
       "model_id": "581fdb71c3884b0ab8a215d1f16a1bc7",
       "version_major": 2,
       "version_minor": 0
      },
      "text/plain": [
       "  0%|          | 0/100 [00:00<?, ?it/s]"
      ]
     },
     "metadata": {},
     "output_type": "display_data"
    },
    {
     "name": "stdout",
     "output_type": "stream",
     "text": [
      "Accuracy= 90.25%\n"
     ]
    }
   ],
   "source": [
    "import numpy as np\n",
    "import torch\n",
    "import torch.nn as nn\n",
    "from torchvision import datasets, transforms\n",
    "from tqdm.notebook import tqdm\n",
    "\n",
    "\n",
    "train_data = datasets.MNIST(root=\"./dataset\", train=True, transform=transforms.ToTensor(), download=True)\n",
    "test_data = datasets.MNIST(root=\"./dataset\", train=False, transform=transforms.ToTensor(), download=True)\n",
    "\n",
    "train_loader = torch.utils.data.DataLoader(train_data, batch_size=100, shuffle=True)\n",
    "test_loader = torch.utils.data.DataLoader(test_data, batch_size=100, shuffle=False)\n",
    "\n",
    "logistic_regression_model = nn.Linear(784, 10)\n",
    "\n",
    "criterion = nn.CrossEntropyLoss()\n",
    "optimizer = torch.optim.SGD(logistic_regression_model.parameters(), lr=0.1)\n",
    " \n",
    "for images, labels in tqdm(train_loader):\n",
    "    optimizer.zero_grad()\n",
    "    x = images.view(-1, 784)\n",
    "    y = logistic_regression_model(x)\n",
    "    loss = criterion(y, labels)\n",
    "    loss.backward()\n",
    "    optimizer.step()\n",
    "\n",
    "correct = 0\n",
    "n = len(test_data)\n",
    "\n",
    "with torch.no_grad():\n",
    "    for images,labels in tqdm(test_loader):\n",
    "        x = images.view(-1,784)\n",
    "        y = logistic_regression_model(x)\n",
    "        prediction = torch.argmax(y,dim=1)\n",
    "        correct+=torch.sum((prediction==labels).float())\n",
    "\n",
    "print(f\"Accuracy= {(correct/n)*100}%\")"
   ]
  },
  {
   "cell_type": "code",
   "execution_count": null,
   "id": "01e64c97",
   "metadata": {},
   "outputs": [],
   "source": [
    "# 2 cells below this cell are for checking visually how our model performs\n",
    "# add index to load image and label in MNIST test_data\n",
    "# you will get the image and true label corresponding to the image\n",
    "# after running the next cell you will get the label predicted by our model"
   ]
  },
  {
   "cell_type": "code",
   "execution_count": 7,
   "id": "384faf71",
   "metadata": {},
   "outputs": [
    {
     "name": "stdout",
     "output_type": "stream",
     "text": [
      "true lable: 4\n"
     ]
    },
    {
     "data": {
      "image/png": "[encoded data removed]",
      "text/plain": [
       "<Figure size 432x288 with 1 Axes>"
      ]
     },
     "metadata": {
      "needs_background": "light"
     },
     "output_type": "display_data"
    }
   ],
   "source": [
    "import matplotlib.pyplot as plt\n",
    "\n",
    "im,lb = test_data[6300]\n",
    "im = im.reshape([28,28])\n",
    "plt.imshow(im, cmap='gray')\n",
    "print(\"true lable: {}\".format(lb))"
   ]
  },
  {
   "cell_type": "code",
   "execution_count": 8,
   "id": "cd614062",
   "metadata": {},
   "outputs": [
    {
     "name": "stdout",
     "output_type": "stream",
     "text": [
      "predicted label: tensor([4])\n"
     ]
    }
   ],
   "source": [
    "x = im.view(-1,784)\n",
    "y = logistic_regression_model(x)\n",
    "prediction = torch.argmax(y,dim=1)\n",
    "print(\"predicted label: {}\".format(prediction))"
   ]
  },
  {
   "cell_type": "code",
   "execution_count": null,
   "id": "253cfed3",
   "metadata": {},
   "outputs": [],
   "source": []
  }
 ],
 "metadata": {
  "kernelspec": {
   "display_name": "Python 3",
   "language": "python",
   "name": "python3"
  },
  "language_info": {
   "codemirror_mode": {
    "name": "ipython",
    "version": 3
   },
   "file_extension": ".py",
   "mimetype": "text/x-python",
   "name": "python",
   "nbconvert_exporter": "python",
   "pygments_lexer": "ipython3",
   "version": "3.6.13"
  }
 },
 "nbformat": 4,
 "nbformat_minor": 5
}
